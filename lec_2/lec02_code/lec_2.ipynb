{
 "cells": [
  {
   "cell_type": "code",
   "execution_count": 19,
   "metadata": {},
   "outputs": [
    {
     "data": {
      "text/plain": [
       "['first',\n",
       " 'line',\n",
       " 'this',\n",
       " 'is',\n",
       " 'a',\n",
       " 'test',\n",
       " 'file',\n",
       " 'this',\n",
       " 'is',\n",
       " 'second',\n",
       " 'line',\n",
       " 'third',\n",
       " 'line',\n",
       " 'and',\n",
       " 'subsiquent',\n",
       " 'lines',\n",
       " 'and',\n",
       " 'more',\n",
       " 'string',\n",
       " 'historically',\n",
       " 'text',\n",
       " 'files',\n",
       " 'have',\n",
       " 'been',\n",
       " 'made',\n",
       " 'of',\n",
       " 'the',\n",
       " 'familiar',\n",
       " 'roman',\n",
       " 'keyboard',\n",
       " 'alphabet',\n",
       " 'abcdef',\n",
       " 'xyz012',\n",
       " '89',\n",
       " 'with',\n",
       " 'the',\n",
       " 'extremely',\n",
       " 'standard',\n",
       " 'ascii',\n",
       " 'encoding',\n",
       " 'american',\n",
       " 'standard',\n",
       " 'code',\n",
       " 'for',\n",
       " 'information',\n",
       " 'interchange',\n",
       " 'more',\n",
       " 'recently',\n",
       " 'text',\n",
       " 'has',\n",
       " 'grown',\n",
       " 'to',\n",
       " 'include',\n",
       " 'the',\n",
       " 'idea',\n",
       " 'of',\n",
       " 'unicode',\n",
       " 'characters',\n",
       " 'text',\n",
       " 'files',\n",
       " 'are',\n",
       " 'one',\n",
       " 'of',\n",
       " 'the',\n",
       " 'most',\n",
       " 'universally',\n",
       " 'standard',\n",
       " 'ways',\n",
       " 'to',\n",
       " 'store',\n",
       " 'information',\n",
       " 'a',\n",
       " 'text',\n",
       " 'file',\n",
       " 'is',\n",
       " 'something',\n",
       " 'you',\n",
       " 'could',\n",
       " 'type',\n",
       " 'up',\n",
       " 'in',\n",
       " 'a',\n",
       " 'word',\n",
       " 'processor']"
      ]
     },
     "execution_count": 19,
     "metadata": {},
     "output_type": "execute_result"
    }
   ],
   "source": [
    "file = open(\"file2.txt\", 'r')\n",
    "lines = file.readlines()\n",
    "char_list = []\n",
    "word_list = []\n",
    "for line in lines:\n",
    "    for c in line:\n",
    "        if c.isalnum():\n",
    "            char_list.append(c)\n",
    "        elif len(char_list)>0:\n",
    "            word = \"\".join(char_list)\n",
    "            word = word.lower()\n",
    "            word_list.append(word)\n",
    "            char_list = []\n",
    "            \n",
    "word_list"
   ]
  },
  {
   "cell_type": "code",
   "execution_count": 21,
   "metadata": {},
   "outputs": [
    {
     "data": {
      "text/plain": [
       "['Formatter',\n",
       " 'Template',\n",
       " '_ChainMap',\n",
       " '_TemplateMetaclass',\n",
       " '__all__',\n",
       " '__builtins__',\n",
       " '__cached__',\n",
       " '__doc__',\n",
       " '__file__',\n",
       " '__loader__',\n",
       " '__name__',\n",
       " '__package__',\n",
       " '__spec__',\n",
       " '_re',\n",
       " '_string',\n",
       " 'ascii_letters',\n",
       " 'ascii_lowercase',\n",
       " 'ascii_uppercase',\n",
       " 'capwords',\n",
       " 'digits',\n",
       " 'hexdigits',\n",
       " 'octdigits',\n",
       " 'printable',\n",
       " 'punctuation',\n",
       " 'whitespace']"
      ]
     },
     "execution_count": 21,
     "metadata": {},
     "output_type": "execute_result"
    }
   ],
   "source": [
    "import string\n",
    "dir(string)"
   ]
  },
  {
   "cell_type": "code",
   "execution_count": 22,
   "metadata": {},
   "outputs": [
    {
     "ename": "AttributeError",
     "evalue": "module 'string' has no attribute 'maketrans'",
     "output_type": "error",
     "traceback": [
      "\u001b[0;31m---------------------------------------------------------------------------\u001b[0m",
      "\u001b[0;31mAttributeError\u001b[0m                            Traceback (most recent call last)",
      "\u001b[0;32m<ipython-input-22-009639607335>\u001b[0m in \u001b[0;36m<module>\u001b[0;34m\u001b[0m\n\u001b[0;32m----> 1\u001b[0;31m \u001b[0mtrans_tabel\u001b[0m \u001b[0;34m=\u001b[0m \u001b[0mstring\u001b[0m\u001b[0;34m.\u001b[0m\u001b[0mmaketrans\u001b[0m\u001b[0;34m(\u001b[0m\u001b[0;34m)\u001b[0m\u001b[0;34m\u001b[0m\u001b[0;34m\u001b[0m\u001b[0m\n\u001b[0m",
      "\u001b[0;31mAttributeError\u001b[0m: module 'string' has no attribute 'maketrans'"
     ]
    }
   ],
   "source": [
    "trans_tabel = string.maketrans()"
   ]
  },
  {
   "cell_type": "code",
   "execution_count": null,
   "metadata": {},
   "outputs": [],
   "source": []
  }
 ],
 "metadata": {
  "kernelspec": {
   "display_name": "Python 3",
   "language": "python",
   "name": "python3"
  },
  "language_info": {
   "codemirror_mode": {
    "name": "ipython",
    "version": 3
   },
   "file_extension": ".py",
   "mimetype": "text/x-python",
   "name": "python",
   "nbconvert_exporter": "python",
   "pygments_lexer": "ipython3",
   "version": "3.7.5"
  }
 },
 "nbformat": 4,
 "nbformat_minor": 4
}
