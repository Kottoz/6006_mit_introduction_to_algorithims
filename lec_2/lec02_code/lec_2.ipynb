{
 "cells": [
  {
   "cell_type": "code",
   "execution_count": 19,
   "metadata": {},
   "outputs": [
    {
     "data": {
      "text/plain": [
       "['first',\n",
       " 'line',\n",
       " 'this',\n",
       " 'is',\n",
       " 'a',\n",
       " 'test',\n",
       " 'file',\n",
       " 'this',\n",
       " 'is',\n",
       " 'second',\n",
       " 'line',\n",
       " 'third',\n",
       " 'line',\n",
       " 'and',\n",
       " 'subsiquent',\n",
       " 'lines',\n",
       " 'and',\n",
       " 'more',\n",
       " 'string',\n",
       " 'historically',\n",
       " 'text',\n",
       " 'files',\n",
       " 'have',\n",
       " 'been',\n",
       " 'made',\n",
       " 'of',\n",
       " 'the',\n",
       " 'familiar',\n",
       " 'roman',\n",
       " 'keyboard',\n",
       " 'alphabet',\n",
       " 'abcdef',\n",
       " 'xyz012',\n",
       " '89',\n",
       " 'with',\n",
       " 'the',\n",
       " 'extremely',\n",
       " 'standard',\n",
       " 'ascii',\n",
       " 'encoding',\n",
       " 'american',\n",
       " 'standard',\n",
       " 'code',\n",
       " 'for',\n",
       " 'information',\n",
       " 'interchange',\n",
       " 'more',\n",
       " 'recently',\n",
       " 'text',\n",
       " 'has',\n",
       " 'grown',\n",
       " 'to',\n",
       " 'include',\n",
       " 'the',\n",
       " 'idea',\n",
       " 'of',\n",
       " 'unicode',\n",
       " 'characters',\n",
       " 'text',\n",
       " 'files',\n",
       " 'are',\n",
       " 'one',\n",
       " 'of',\n",
       " 'the',\n",
       " 'most',\n",
       " 'universally',\n",
       " 'standard',\n",
       " 'ways',\n",
       " 'to',\n",
       " 'store',\n",
       " 'information',\n",
       " 'a',\n",
       " 'text',\n",
       " 'file',\n",
       " 'is',\n",
       " 'something',\n",
       " 'you',\n",
       " 'could',\n",
       " 'type',\n",
       " 'up',\n",
       " 'in',\n",
       " 'a',\n",
       " 'word',\n",
       " 'processor']"
      ]
     },
     "execution_count": 19,
     "metadata": {},
     "output_type": "execute_result"
    }
   ],
   "source": [
    "file = open(\"file2.txt\", 'r')\n",
    "lines = file.readlines()\n",
    "char_list = []\n",
    "word_list = []\n",
    "for line in lines:\n",
    "    for c in line:\n",
    "        if c.isalnum():\n",
    "            char_list.append(c)\n",
    "        elif len(char_list)>0:\n",
    "            word = \"\".join(char_list)\n",
    "            word = word.lower()\n",
    "            word_list.append(word)\n",
    "            char_list = []\n",
    "            \n",
    "word_list"
   ]
  },
  {
   "cell_type": "code",
   "execution_count": 21,
   "metadata": {},
   "outputs": [
    {
     "data": {
      "text/plain": [
       "['Formatter',\n",
       " 'Template',\n",
       " '_ChainMap',\n",
       " '_TemplateMetaclass',\n",
       " '__all__',\n",
       " '__builtins__',\n",
       " '__cached__',\n",
       " '__doc__',\n",
       " '__file__',\n",
       " '__loader__',\n",
       " '__name__',\n",
       " '__package__',\n",
       " '__spec__',\n",
       " '_re',\n",
       " '_string',\n",
       " 'ascii_letters',\n",
       " 'ascii_lowercase',\n",
       " 'ascii_uppercase',\n",
       " 'capwords',\n",
       " 'digits',\n",
       " 'hexdigits',\n",
       " 'octdigits',\n",
       " 'printable',\n",
       " 'punctuation',\n",
       " 'whitespace']"
      ]
     },
     "execution_count": 21,
     "metadata": {},
     "output_type": "execute_result"
    }
   ],
   "source": [
    "import string\n",
    "dir(string)"
   ]
  },
  {
   "cell_type": "code",
   "execution_count": 22,
   "metadata": {},
   "outputs": [
    {
     "ename": "AttributeError",
     "evalue": "module 'string' has no attribute 'maketrans'",
     "output_type": "error",
     "traceback": [
      "\u001b[0;31m---------------------------------------------------------------------------\u001b[0m",
      "\u001b[0;31mAttributeError\u001b[0m                            Traceback (most recent call last)",
      "\u001b[0;32m<ipython-input-22-009639607335>\u001b[0m in \u001b[0;36m<module>\u001b[0;34m\u001b[0m\n\u001b[0;32m----> 1\u001b[0;31m \u001b[0mtrans_tabel\u001b[0m \u001b[0;34m=\u001b[0m \u001b[0mstring\u001b[0m\u001b[0;34m.\u001b[0m\u001b[0mmaketrans\u001b[0m\u001b[0;34m(\u001b[0m\u001b[0;34m)\u001b[0m\u001b[0;34m\u001b[0m\u001b[0;34m\u001b[0m\u001b[0m\n\u001b[0m",
      "\u001b[0;31mAttributeError\u001b[0m: module 'string' has no attribute 'maketrans'"
     ]
    }
   ],
   "source": [
    "trans_tabel = string.maketrans()"
   ]
  },
  {
   "cell_type": "code",
   "execution_count": 30,
   "metadata": {},
   "outputs": [],
   "source": [
    "def MaxCrossSubarray(array, low, mid, high):\n",
    "    sum = -0\n",
    "    left_sum = 0\n",
    "    for i in range(mid, low, -1):\n",
    "        sum = sum+array[i]\n",
    "        if sum > left_sum:\n",
    "            left_sum = sum \n",
    "            max_left = i\n",
    "    right_sum = 0\n",
    "    for j in range(mid+1, high):\n",
    "        sum = sum+array[j]\n",
    "        if sum > right_sum:\n",
    "            right_sum = sum \n",
    "            max_right = j\n",
    "    return (max_left, max_right, left_sum+right_sum)\n"
   ]
  },
  {
   "cell_type": "code",
   "execution_count": 31,
   "metadata": {},
   "outputs": [],
   "source": [
    "def FindMaxSubarray(array, low, high):\n",
    "    if high == low :\n",
    "        return (low,high,array[low])\n",
    "    else:\n",
    "        mid = high+low//2\n",
    "        leftLow, leftHigh, leftSum = FindMaxSubarray(array, low, mid)\n",
    "        rightLow, rightHigh, rightSum = FindMaxSubarray(array, mid, high)\n",
    "        crossLow, crossHigh, crossSum = MaxCrossSubarray(array, low, mid, high)\n",
    "        if leftSum >= rightSum and leftSum >=crossSum:\n",
    "            return (leftLow, leftHigh, leftSum)\n",
    "        elif rightSum >= leftSum and rightSum >=crossSum:\n",
    "            return (rightLow, rightHigh, rightSum)\n",
    "        else:\n",
    "            return (crossLow, crossHigh, crossSum)\n",
    "\n"
   ]
  },
  {
   "cell_type": "code",
   "execution_count": 33,
   "metadata": {},
   "outputs": [
    {
     "ename": "RecursionError",
     "evalue": "maximum recursion depth exceeded in comparison",
     "output_type": "error",
     "traceback": [
      "\u001b[0;31m---------------------------------------------------------------------------\u001b[0m",
      "\u001b[0;31mRecursionError\u001b[0m                            Traceback (most recent call last)",
      "\u001b[0;32m<ipython-input-33-d895de700900>\u001b[0m in \u001b[0;36m<module>\u001b[0;34m\u001b[0m\n\u001b[1;32m      5\u001b[0m \u001b[0mmid\u001b[0m  \u001b[0;34m=\u001b[0m \u001b[0mlen\u001b[0m\u001b[0;34m(\u001b[0m\u001b[0marray\u001b[0m\u001b[0;34m)\u001b[0m\u001b[0;34m//\u001b[0m\u001b[0;36m2\u001b[0m\u001b[0;34m\u001b[0m\u001b[0;34m\u001b[0m\u001b[0m\n\u001b[1;32m      6\u001b[0m \u001b[0;34m\u001b[0m\u001b[0m\n\u001b[0;32m----> 7\u001b[0;31m \u001b[0mlow\u001b[0m\u001b[0;34m,\u001b[0m \u001b[0mhigh\u001b[0m\u001b[0;34m,\u001b[0m \u001b[0msum\u001b[0m \u001b[0;34m=\u001b[0m \u001b[0mFindMaxSubarray\u001b[0m \u001b[0;34m(\u001b[0m\u001b[0marray\u001b[0m\u001b[0;34m,\u001b[0m \u001b[0mlow\u001b[0m\u001b[0;34m,\u001b[0m \u001b[0mhigh\u001b[0m\u001b[0;34m)\u001b[0m\u001b[0;34m\u001b[0m\u001b[0;34m\u001b[0m\u001b[0m\n\u001b[0m",
      "\u001b[0;32m<ipython-input-31-2ea0425b45c9>\u001b[0m in \u001b[0;36mFindMaxSubarray\u001b[0;34m(array, low, high)\u001b[0m\n\u001b[1;32m      4\u001b[0m     \u001b[0;32melse\u001b[0m\u001b[0;34m:\u001b[0m\u001b[0;34m\u001b[0m\u001b[0;34m\u001b[0m\u001b[0m\n\u001b[1;32m      5\u001b[0m         \u001b[0mmid\u001b[0m \u001b[0;34m=\u001b[0m \u001b[0mhigh\u001b[0m\u001b[0;34m+\u001b[0m\u001b[0mlow\u001b[0m\u001b[0;34m//\u001b[0m\u001b[0;36m2\u001b[0m\u001b[0;34m\u001b[0m\u001b[0;34m\u001b[0m\u001b[0m\n\u001b[0;32m----> 6\u001b[0;31m         \u001b[0mleftLow\u001b[0m\u001b[0;34m,\u001b[0m \u001b[0mleftHigh\u001b[0m\u001b[0;34m,\u001b[0m \u001b[0mleftSum\u001b[0m \u001b[0;34m=\u001b[0m \u001b[0mFindMaxSubarray\u001b[0m\u001b[0;34m(\u001b[0m\u001b[0marray\u001b[0m\u001b[0;34m,\u001b[0m \u001b[0mlow\u001b[0m\u001b[0;34m,\u001b[0m \u001b[0mmid\u001b[0m\u001b[0;34m)\u001b[0m\u001b[0;34m\u001b[0m\u001b[0;34m\u001b[0m\u001b[0m\n\u001b[0m\u001b[1;32m      7\u001b[0m         \u001b[0mrightLow\u001b[0m\u001b[0;34m,\u001b[0m \u001b[0mrightHigh\u001b[0m\u001b[0;34m,\u001b[0m \u001b[0mrightSum\u001b[0m \u001b[0;34m=\u001b[0m \u001b[0mFindMaxSubarray\u001b[0m\u001b[0;34m(\u001b[0m\u001b[0marray\u001b[0m\u001b[0;34m,\u001b[0m \u001b[0mmid\u001b[0m\u001b[0;34m,\u001b[0m \u001b[0mhigh\u001b[0m\u001b[0;34m)\u001b[0m\u001b[0;34m\u001b[0m\u001b[0;34m\u001b[0m\u001b[0m\n\u001b[1;32m      8\u001b[0m         \u001b[0mcrossLow\u001b[0m\u001b[0;34m,\u001b[0m \u001b[0mcrossHigh\u001b[0m\u001b[0;34m,\u001b[0m \u001b[0mcrossSum\u001b[0m \u001b[0;34m=\u001b[0m \u001b[0mMaxCrossSubarray\u001b[0m\u001b[0;34m(\u001b[0m\u001b[0marray\u001b[0m\u001b[0;34m,\u001b[0m \u001b[0mlow\u001b[0m\u001b[0;34m,\u001b[0m \u001b[0mmid\u001b[0m\u001b[0;34m,\u001b[0m \u001b[0mhigh\u001b[0m\u001b[0;34m)\u001b[0m\u001b[0;34m\u001b[0m\u001b[0;34m\u001b[0m\u001b[0m\n",
      "... last 1 frames repeated, from the frame below ...\n",
      "\u001b[0;32m<ipython-input-31-2ea0425b45c9>\u001b[0m in \u001b[0;36mFindMaxSubarray\u001b[0;34m(array, low, high)\u001b[0m\n\u001b[1;32m      4\u001b[0m     \u001b[0;32melse\u001b[0m\u001b[0;34m:\u001b[0m\u001b[0;34m\u001b[0m\u001b[0;34m\u001b[0m\u001b[0m\n\u001b[1;32m      5\u001b[0m         \u001b[0mmid\u001b[0m \u001b[0;34m=\u001b[0m \u001b[0mhigh\u001b[0m\u001b[0;34m+\u001b[0m\u001b[0mlow\u001b[0m\u001b[0;34m//\u001b[0m\u001b[0;36m2\u001b[0m\u001b[0;34m\u001b[0m\u001b[0;34m\u001b[0m\u001b[0m\n\u001b[0;32m----> 6\u001b[0;31m         \u001b[0mleftLow\u001b[0m\u001b[0;34m,\u001b[0m \u001b[0mleftHigh\u001b[0m\u001b[0;34m,\u001b[0m \u001b[0mleftSum\u001b[0m \u001b[0;34m=\u001b[0m \u001b[0mFindMaxSubarray\u001b[0m\u001b[0;34m(\u001b[0m\u001b[0marray\u001b[0m\u001b[0;34m,\u001b[0m \u001b[0mlow\u001b[0m\u001b[0;34m,\u001b[0m \u001b[0mmid\u001b[0m\u001b[0;34m)\u001b[0m\u001b[0;34m\u001b[0m\u001b[0;34m\u001b[0m\u001b[0m\n\u001b[0m\u001b[1;32m      7\u001b[0m         \u001b[0mrightLow\u001b[0m\u001b[0;34m,\u001b[0m \u001b[0mrightHigh\u001b[0m\u001b[0;34m,\u001b[0m \u001b[0mrightSum\u001b[0m \u001b[0;34m=\u001b[0m \u001b[0mFindMaxSubarray\u001b[0m\u001b[0;34m(\u001b[0m\u001b[0marray\u001b[0m\u001b[0;34m,\u001b[0m \u001b[0mmid\u001b[0m\u001b[0;34m,\u001b[0m \u001b[0mhigh\u001b[0m\u001b[0;34m)\u001b[0m\u001b[0;34m\u001b[0m\u001b[0;34m\u001b[0m\u001b[0m\n\u001b[1;32m      8\u001b[0m         \u001b[0mcrossLow\u001b[0m\u001b[0;34m,\u001b[0m \u001b[0mcrossHigh\u001b[0m\u001b[0;34m,\u001b[0m \u001b[0mcrossSum\u001b[0m \u001b[0;34m=\u001b[0m \u001b[0mMaxCrossSubarray\u001b[0m\u001b[0;34m(\u001b[0m\u001b[0marray\u001b[0m\u001b[0;34m,\u001b[0m \u001b[0mlow\u001b[0m\u001b[0;34m,\u001b[0m \u001b[0mmid\u001b[0m\u001b[0;34m,\u001b[0m \u001b[0mhigh\u001b[0m\u001b[0;34m)\u001b[0m\u001b[0;34m\u001b[0m\u001b[0;34m\u001b[0m\u001b[0m\n",
      "\u001b[0;31mRecursionError\u001b[0m: maximum recursion depth exceeded in comparison"
     ]
    }
   ],
   "source": [
    "array = [0,1,-2,3,4,-2, 5, -1, 10, -2 ,11,9, -5, -10, 12]\n",
    "\n",
    "low = 0 \n",
    "high = len(array)\n",
    "mid  = len(array)//2\n",
    "\n",
    "low, high, sum = FindMaxSubarray (array, low, high) "
   ]
  },
  {
   "cell_type": "code",
   "execution_count": 52,
   "metadata": {},
   "outputs": [],
   "source": [
    "def print_num(n):\n",
    "    if n:\n",
    "        print_num(int(n/2))\n",
    "        print(n%2)\n"
   ]
  },
  {
   "cell_type": "code",
   "execution_count": 55,
   "metadata": {},
   "outputs": [
    {
     "name": "stdout",
     "output_type": "stream",
     "text": [
      "1\n",
      "0\n",
      "0\n",
      "1\n"
     ]
    }
   ],
   "source": [
    "print_num(9)\n"
   ]
  },
  {
   "cell_type": "code",
   "execution_count": 67,
   "metadata": {},
   "outputs": [
    {
     "data": {
      "text/plain": [
       "1"
      ]
     },
     "execution_count": 67,
     "metadata": {},
     "output_type": "execute_result"
    }
   ],
   "source": [
    "int(17/2)\n",
    "7%2"
   ]
  },
  {
   "cell_type": "code",
   "execution_count": null,
   "metadata": {},
   "outputs": [],
   "source": []
  }
 ],
 "metadata": {
  "kernelspec": {
   "display_name": "Python 3",
   "language": "python",
   "name": "python3"
  },
  "language_info": {
   "codemirror_mode": {
    "name": "ipython",
    "version": 3
   },
   "file_extension": ".py",
   "mimetype": "text/x-python",
   "name": "python",
   "nbconvert_exporter": "python",
   "pygments_lexer": "ipython3",
   "version": "3.7.5"
  }
 },
 "nbformat": 4,
 "nbformat_minor": 4
}
